{
 "cells": [
  {
   "cell_type": "code",
   "execution_count": 2,
   "metadata": {
    "collapsed": true
   },
   "outputs": [],
   "source": [
    "\"\"\" This file contains code used to analyze the\n",
    "2014 NSDUH Survey.\n",
    "\n",
    "The following packages are required to run this code.\n",
    "\"\"\"\n",
    "\n",
    "from __future__ import print_function, division\n",
    "import pandas as pd\n",
    "\n",
    "import sys\n",
    "import numpy as np\n",
    "import thinkstats2\n",
    "import thinkplot\n",
    "import matplotlib.pyplot as plt\n",
    "from operator import itemgetter\n",
    "from cycler import cycler\n",
    "\n",
    "from collections import defaultdict\n"
   ]
  },
  {
   "cell_type": "code",
   "execution_count": 6,
   "metadata": {
    "collapsed": true
   },
   "outputs": [],
   "source": [
    "def ReadNSDUH():\n",
    "    \"\"\" Reads the NSDUH file.\n",
    "    TO DO: make a clean file function\n",
    "\n",
    "    returns a Dataframe\n",
    "    \"\"\"\n",
    "    nsduh = pd.read_stata('reports/report2data/ICPSR_36361/DS0001/36361-0001-Data.dta',convert_categoricals=False, convert_missing=False)\n",
    "    return nsduh"
   ]
  },
  {
   "cell_type": "code",
   "execution_count": 7,
   "metadata": {
    "collapsed": false
   },
   "outputs": [],
   "source": [
    "nsduh = ReadNSDUH()"
   ]
  },
  {
   "cell_type": "code",
   "execution_count": 10,
   "metadata": {
    "collapsed": false
   },
   "outputs": [
    {
     "data": {
      "text/plain": [
       "Index(['CASEID', 'QUESTID2', 'CIGEVER', 'CIGOFRSM', 'CIGWILYR', 'CIGTRY',\n",
       "       'CIGYFU', 'CIGMFU', 'CIGREC', 'CIG30USE',\n",
       "       ...\n",
       "       'II2EMST4', 'PRXRETRY', 'PDEN10', 'COUTYP2', 'MAIIN102', 'AIIND102',\n",
       "       'ANALWT_C', 'VESTR', 'VEREP', 'GQTYPE2'],\n",
       "      dtype='object', length=3148)"
      ]
     },
     "execution_count": 10,
     "metadata": {},
     "output_type": "execute_result"
    }
   ],
   "source": [
    "nsduh.columns"
   ]
  },
  {
   "cell_type": "code",
   "execution_count": null,
   "metadata": {
    "collapsed": true
   },
   "outputs": [],
   "source": []
  }
 ],
 "metadata": {
  "anaconda-cloud": {},
  "kernelspec": {
   "display_name": "Python [conda root]",
   "language": "python",
   "name": "conda-root-py"
  },
  "language_info": {
   "codemirror_mode": {
    "name": "ipython",
    "version": 3
   },
   "file_extension": ".py",
   "mimetype": "text/x-python",
   "name": "python",
   "nbconvert_exporter": "python",
   "pygments_lexer": "ipython3",
   "version": "3.5.2"
  }
 },
 "nbformat": 4,
 "nbformat_minor": 1
}
